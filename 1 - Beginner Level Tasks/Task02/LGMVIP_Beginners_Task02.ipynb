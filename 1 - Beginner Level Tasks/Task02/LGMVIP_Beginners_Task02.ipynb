{
  "nbformat": 4,
  "nbformat_minor": 0,
  "metadata": {
    "kernelspec": {
      "display_name": "Python 3",
      "language": "python",
      "name": "python3"
    },
    "language_info": {
      "codemirror_mode": {
        "name": "ipython",
        "version": 3
      },
      "file_extension": ".py",
      "mimetype": "text/x-python",
      "name": "python",
      "nbconvert_exporter": "python",
      "pygments_lexer": "ipython3",
      "version": "3.7.4"
    },
    "colab": {
      "name": "LGMVIP-Beginners-Task02",
      "provenance": []
    }
  },
  "cells": [
    {
      "cell_type": "markdown",
      "metadata": {
        "id": "BXx8hqndoQpk"
      },
      "source": [
        "# LETS GROW MORE VIRTUAL INTERNSHIP PROGRAM - DATA SCIENCE"
      ]
    },
    {
      "cell_type": "markdown",
      "metadata": {
        "id": "8NWCA59N55Pn"
      },
      "source": [
        "<b>Beginners Level Task # 02"
      ]
    },
    {
      "cell_type": "markdown",
      "metadata": {
        "id": "paSrz7uU592N"
      },
      "source": [
        "<b>Stock Market Prediction And Forecasting Using Stacked LSTM"
      ]
    },
    {
      "cell_type": "code",
      "metadata": {
        "id": "h8MFEE4b6K1V"
      },
      "source": [
        "import pandas as pd\n",
        "import numpy as np\n",
        "import matplotlib.pyplot as plt\n",
        "from sklearn.preprocessing import MinMaxScaler\n",
        "from tensorflow.keras.models import Sequential\n",
        "from tensorflow.keras.layers import Dense\n",
        "from tensorflow.keras.layers import LSTM\n",
        "from sklearn.metrics import mean_absolute_error\n",
        "import math"
      ],
      "execution_count": 44,
      "outputs": []
    },
    {
      "cell_type": "code",
      "metadata": {
        "colab": {
          "base_uri": "https://localhost:8080/",
          "height": 205
        },
        "id": "av8Tf6fG7ZLk",
        "outputId": "7f9d2475-6aac-429f-b7d5-09a11e61a40d"
      },
      "source": [
        "df = pd.read_csv('NSE-TATAGLOBAL.csv')\n",
        "df.head()"
      ],
      "execution_count": 2,
      "outputs": [
        {
          "output_type": "execute_result",
          "data": {
            "text/html": [
              "<div>\n",
              "<style scoped>\n",
              "    .dataframe tbody tr th:only-of-type {\n",
              "        vertical-align: middle;\n",
              "    }\n",
              "\n",
              "    .dataframe tbody tr th {\n",
              "        vertical-align: top;\n",
              "    }\n",
              "\n",
              "    .dataframe thead th {\n",
              "        text-align: right;\n",
              "    }\n",
              "</style>\n",
              "<table border=\"1\" class=\"dataframe\">\n",
              "  <thead>\n",
              "    <tr style=\"text-align: right;\">\n",
              "      <th></th>\n",
              "      <th>Date</th>\n",
              "      <th>Open</th>\n",
              "      <th>High</th>\n",
              "      <th>Low</th>\n",
              "      <th>Last</th>\n",
              "      <th>Close</th>\n",
              "      <th>Total Trade Quantity</th>\n",
              "      <th>Turnover (Lacs)</th>\n",
              "    </tr>\n",
              "  </thead>\n",
              "  <tbody>\n",
              "    <tr>\n",
              "      <th>0</th>\n",
              "      <td>2018-09-28</td>\n",
              "      <td>234.05</td>\n",
              "      <td>235.95</td>\n",
              "      <td>230.20</td>\n",
              "      <td>233.50</td>\n",
              "      <td>233.75</td>\n",
              "      <td>3069914</td>\n",
              "      <td>7162.35</td>\n",
              "    </tr>\n",
              "    <tr>\n",
              "      <th>1</th>\n",
              "      <td>2018-09-27</td>\n",
              "      <td>234.55</td>\n",
              "      <td>236.80</td>\n",
              "      <td>231.10</td>\n",
              "      <td>233.80</td>\n",
              "      <td>233.25</td>\n",
              "      <td>5082859</td>\n",
              "      <td>11859.95</td>\n",
              "    </tr>\n",
              "    <tr>\n",
              "      <th>2</th>\n",
              "      <td>2018-09-26</td>\n",
              "      <td>240.00</td>\n",
              "      <td>240.00</td>\n",
              "      <td>232.50</td>\n",
              "      <td>235.00</td>\n",
              "      <td>234.25</td>\n",
              "      <td>2240909</td>\n",
              "      <td>5248.60</td>\n",
              "    </tr>\n",
              "    <tr>\n",
              "      <th>3</th>\n",
              "      <td>2018-09-25</td>\n",
              "      <td>233.30</td>\n",
              "      <td>236.75</td>\n",
              "      <td>232.00</td>\n",
              "      <td>236.25</td>\n",
              "      <td>236.10</td>\n",
              "      <td>2349368</td>\n",
              "      <td>5503.90</td>\n",
              "    </tr>\n",
              "    <tr>\n",
              "      <th>4</th>\n",
              "      <td>2018-09-24</td>\n",
              "      <td>233.55</td>\n",
              "      <td>239.20</td>\n",
              "      <td>230.75</td>\n",
              "      <td>234.00</td>\n",
              "      <td>233.30</td>\n",
              "      <td>3423509</td>\n",
              "      <td>7999.55</td>\n",
              "    </tr>\n",
              "  </tbody>\n",
              "</table>\n",
              "</div>"
            ],
            "text/plain": [
              "         Date    Open    High  ...   Close  Total Trade Quantity  Turnover (Lacs)\n",
              "0  2018-09-28  234.05  235.95  ...  233.75               3069914          7162.35\n",
              "1  2018-09-27  234.55  236.80  ...  233.25               5082859         11859.95\n",
              "2  2018-09-26  240.00  240.00  ...  234.25               2240909          5248.60\n",
              "3  2018-09-25  233.30  236.75  ...  236.10               2349368          5503.90\n",
              "4  2018-09-24  233.55  239.20  ...  233.30               3423509          7999.55\n",
              "\n",
              "[5 rows x 8 columns]"
            ]
          },
          "metadata": {},
          "execution_count": 2
        }
      ]
    },
    {
      "cell_type": "code",
      "metadata": {
        "colab": {
          "base_uri": "https://localhost:8080/"
        },
        "id": "ng1pFxtP_Cdv",
        "outputId": "9ba27df0-6d36-4fe7-bc7f-a2def025a91e"
      },
      "source": [
        "df.info()"
      ],
      "execution_count": 5,
      "outputs": [
        {
          "output_type": "stream",
          "name": "stdout",
          "text": [
            "<class 'pandas.core.frame.DataFrame'>\n",
            "RangeIndex: 2035 entries, 0 to 2034\n",
            "Data columns (total 8 columns):\n",
            " #   Column                Non-Null Count  Dtype  \n",
            "---  ------                --------------  -----  \n",
            " 0   Date                  2035 non-null   object \n",
            " 1   Open                  2035 non-null   float64\n",
            " 2   High                  2035 non-null   float64\n",
            " 3   Low                   2035 non-null   float64\n",
            " 4   Last                  2035 non-null   float64\n",
            " 5   Close                 2035 non-null   float64\n",
            " 6   Total Trade Quantity  2035 non-null   int64  \n",
            " 7   Turnover (Lacs)       2035 non-null   float64\n",
            "dtypes: float64(6), int64(1), object(1)\n",
            "memory usage: 127.3+ KB\n"
          ]
        }
      ]
    },
    {
      "cell_type": "code",
      "metadata": {
        "colab": {
          "base_uri": "https://localhost:8080/"
        },
        "id": "aPlNwmuo_LSU",
        "outputId": "4852c474-61cc-4f23-818a-0fa01c714e18"
      },
      "source": [
        "df.dtypes"
      ],
      "execution_count": 6,
      "outputs": [
        {
          "output_type": "execute_result",
          "data": {
            "text/plain": [
              "Date                     object\n",
              "Open                    float64\n",
              "High                    float64\n",
              "Low                     float64\n",
              "Last                    float64\n",
              "Close                   float64\n",
              "Total Trade Quantity      int64\n",
              "Turnover (Lacs)         float64\n",
              "dtype: object"
            ]
          },
          "metadata": {},
          "execution_count": 6
        }
      ]
    },
    {
      "cell_type": "code",
      "metadata": {
        "colab": {
          "base_uri": "https://localhost:8080/"
        },
        "id": "gmrNAMTI8eAE",
        "outputId": "8aa4d6ba-b9d3-48c5-8934-4f9e70530c67"
      },
      "source": [
        "close = df['Close'].reset_index(drop=True)\n",
        "close"
      ],
      "execution_count": 4,
      "outputs": [
        {
          "output_type": "execute_result",
          "data": {
            "text/plain": [
              "0       233.75\n",
              "1       233.25\n",
              "2       234.25\n",
              "3       236.10\n",
              "4       233.30\n",
              "         ...  \n",
              "2030    118.65\n",
              "2031    117.60\n",
              "2032    120.65\n",
              "2033    120.90\n",
              "2034    121.55\n",
              "Name: Close, Length: 2035, dtype: float64"
            ]
          },
          "metadata": {},
          "execution_count": 4
        }
      ]
    },
    {
      "cell_type": "code",
      "metadata": {
        "id": "ypK0A3jh821-"
      },
      "source": [
        "df[\"Date\"] = pd.to_datetime(df[\"Date\"], format= \"%Y-%m-%d\")"
      ],
      "execution_count": 8,
      "outputs": []
    },
    {
      "cell_type": "code",
      "metadata": {
        "colab": {
          "base_uri": "https://localhost:8080/",
          "height": 283
        },
        "id": "sdbn3CV5CgZ2",
        "outputId": "9b813c3c-0dd1-4d09-9b91-b36f44e16cb6"
      },
      "source": [
        "plt.plot(close, 'g-')"
      ],
      "execution_count": 18,
      "outputs": [
        {
          "output_type": "execute_result",
          "data": {
            "text/plain": [
              "[<matplotlib.lines.Line2D at 0x7f30dcd0e790>]"
            ]
          },
          "metadata": {},
          "execution_count": 18
        },
        {
          "output_type": "display_data",
          "data": {
            "image/png": "[encoded data removed]",
            "text/plain": [
              "<Figure size 432x288 with 1 Axes>"
            ]
          },
          "metadata": {
            "needs_background": "light"
          }
        }
      ]
    },
    {
      "cell_type": "code",
      "metadata": {
        "id": "5yiss06rC9M0"
      },
      "source": [
        "scaler = MinMaxScaler(feature_range=(0,1))\n",
        "close = scaler.fit_transform(np.array(close).reshape(-1,1))"
      ],
      "execution_count": 19,
      "outputs": []
    },
    {
      "cell_type": "code",
      "metadata": {
        "colab": {
          "base_uri": "https://localhost:8080/"
        },
        "id": "rWP1VVz-Dsdi",
        "outputId": "b5b5395d-8d9a-431d-f24d-98f1809195cf"
      },
      "source": [
        "close"
      ],
      "execution_count": 20,
      "outputs": [
        {
          "output_type": "execute_result",
          "data": {
            "text/plain": [
              "array([[0.62418301],\n",
              "       [0.62214052],\n",
              "       [0.62622549],\n",
              "       ...,\n",
              "       [0.1621732 ],\n",
              "       [0.16319444],\n",
              "       [0.16584967]])"
            ]
          },
          "metadata": {},
          "execution_count": 20
        }
      ]
    },
    {
      "cell_type": "code",
      "metadata": {
        "id": "plUhUpoeDwjw"
      },
      "source": [
        "train_size = int(len(close)*0.7)\n",
        "test_size = len(close) - train_size\n",
        "train_data, test_data = close[0:train_size,:],close[train_size:len(close),:1]"
      ],
      "execution_count": 24,
      "outputs": []
    },
    {
      "cell_type": "code",
      "metadata": {
        "colab": {
          "base_uri": "https://localhost:8080/"
        },
        "id": "L-0sIuo5JP1q",
        "outputId": "c805197e-0c7f-48f4-f423-e5676e31955d"
      },
      "source": [
        "train_size,test_size"
      ],
      "execution_count": 26,
      "outputs": [
        {
          "output_type": "execute_result",
          "data": {
            "text/plain": [
              "(1424, 611)"
            ]
          },
          "metadata": {},
          "execution_count": 26
        }
      ]
    },
    {
      "cell_type": "code",
      "metadata": {
        "id": "NBFSRDppJkdx"
      },
      "source": [
        "def create(dataset, time_step):\n",
        "\tX, Y = [], []\n",
        "\tfor i in range(len(dataset) - time_step - 1):\n",
        "\t\ta = dataset[i:(i+time_step), 0]\n",
        "\t\tX.append(a)\n",
        "\t\tY.append(dataset[i + time_step, 0])\n",
        "\treturn np.array(X), np.array(Y)"
      ],
      "execution_count": 31,
      "outputs": []
    },
    {
      "cell_type": "code",
      "metadata": {
        "id": "qX2q5-yEKJnP"
      },
      "source": [
        "time_step = 100\n",
        "x_train, y_train = create(train_data, time_step)\n",
        "x_test, y_test = create(test_data, time_step)"
      ],
      "execution_count": 32,
      "outputs": []
    },
    {
      "cell_type": "code",
      "metadata": {
        "colab": {
          "base_uri": "https://localhost:8080/"
        },
        "id": "CrKUlJ1HLHXR",
        "outputId": "26087322-4fa0-4667-e0bc-2dbbdc65ccdd"
      },
      "source": [
        "print(x_train.shape) \n",
        "print(y_train.shape)"
      ],
      "execution_count": 33,
      "outputs": [
        {
          "output_type": "stream",
          "name": "stdout",
          "text": [
            "(1323, 100)\n",
            "(1323,)\n"
          ]
        }
      ]
    },
    {
      "cell_type": "code",
      "metadata": {
        "colab": {
          "base_uri": "https://localhost:8080/"
        },
        "id": "EOlwVeO7LOMb",
        "outputId": "ecd2162a-c757-4029-ca32-2fbb7f4b3021"
      },
      "source": [
        "print(x_test.shape) \n",
        "print(y_test.shape)"
      ],
      "execution_count": 34,
      "outputs": [
        {
          "output_type": "stream",
          "name": "stdout",
          "text": [
            "(510, 100)\n",
            "(510,)\n"
          ]
        }
      ]
    },
    {
      "cell_type": "code",
      "metadata": {
        "id": "U8_SsRP3LVsE"
      },
      "source": [
        "x_train = x_train.reshape(x_train.shape[0],x_train.shape[1] , 1)\n",
        "x_test = x_test.reshape(x_test.shape[0],x_test.shape[1] , 1)"
      ],
      "execution_count": 35,
      "outputs": []
    },
    {
      "cell_type": "code",
      "metadata": {
        "id": "wLgtIXuUMSM-"
      },
      "source": [
        "lstm=Sequential()\n",
        "lstm.add(LSTM(50,return_sequences=True,input_shape=(100,1)))\n",
        "lstm.add(LSTM(45,return_sequences=True))\n",
        "lstm.add(LSTM(30))\n",
        "lstm.add(Dense(1))\n",
        "lstm.compile(loss='mean_absolute_error',optimizer='RMSprop')"
      ],
      "execution_count": 46,
      "outputs": []
    },
    {
      "cell_type": "code",
      "metadata": {
        "colab": {
          "base_uri": "https://localhost:8080/"
        },
        "id": "ckSp1wHxMe7C",
        "outputId": "f755e600-e1ac-45a0-9bc1-03f689499960"
      },
      "source": [
        "lstm.summary()"
      ],
      "execution_count": 47,
      "outputs": [
        {
          "output_type": "stream",
          "name": "stdout",
          "text": [
            "Model: \"sequential_2\"\n",
            "_________________________________________________________________\n",
            "Layer (type)                 Output Shape              Param #   \n",
            "=================================================================\n",
            "lstm_6 (LSTM)                (None, 100, 50)           10400     \n",
            "_________________________________________________________________\n",
            "lstm_7 (LSTM)                (None, 100, 45)           17280     \n",
            "_________________________________________________________________\n",
            "lstm_8 (LSTM)                (None, 30)                9120      \n",
            "_________________________________________________________________\n",
            "dense_2 (Dense)              (None, 1)                 31        \n",
            "=================================================================\n",
            "Total params: 36,831\n",
            "Trainable params: 36,831\n",
            "Non-trainable params: 0\n",
            "_________________________________________________________________\n"
          ]
        }
      ]
    },
    {
      "cell_type": "code",
      "metadata": {
        "colab": {
          "base_uri": "https://localhost:8080/"
        },
        "id": "CkyAuj1oMsve",
        "outputId": "1abe989b-acd0-4dc8-c3d3-ef6e47f2fa31"
      },
      "source": [
        "history = lstm.fit(x_train, y_train, validation_data=(x_test,y_test), epochs=50, batch_size=64, verbose=1)"
      ],
      "execution_count": 53,
      "outputs": [
        {
          "output_type": "stream",
          "name": "stdout",
          "text": [
            "Epoch 1/50\n",
            "21/21 [==============================] - 9s 206ms/step - loss: 0.0821 - val_loss: 0.0611\n",
            "Epoch 2/50\n",
            "21/21 [==============================] - 3s 154ms/step - loss: 0.0506 - val_loss: 0.0241\n",
            "Epoch 3/50\n",
            "21/21 [==============================] - 3s 154ms/step - loss: 0.0401 - val_loss: 0.0219\n",
            "Epoch 4/50\n",
            "21/21 [==============================] - 3s 154ms/step - loss: 0.0414 - val_loss: 0.0351\n",
            "Epoch 5/50\n",
            "21/21 [==============================] - 3s 155ms/step - loss: 0.0371 - val_loss: 0.0203\n",
            "Epoch 6/50\n",
            "21/21 [==============================] - 3s 154ms/step - loss: 0.0373 - val_loss: 0.0216\n",
            "Epoch 7/50\n",
            "21/21 [==============================] - 3s 155ms/step - loss: 0.0332 - val_loss: 0.0202\n",
            "Epoch 8/50\n",
            "21/21 [==============================] - 3s 154ms/step - loss: 0.0365 - val_loss: 0.0399\n",
            "Epoch 9/50\n",
            "21/21 [==============================] - 3s 154ms/step - loss: 0.0330 - val_loss: 0.0189\n",
            "Epoch 10/50\n",
            "21/21 [==============================] - 3s 157ms/step - loss: 0.0325 - val_loss: 0.0357\n",
            "Epoch 11/50\n",
            "21/21 [==============================] - 3s 155ms/step - loss: 0.0306 - val_loss: 0.0190\n",
            "Epoch 12/50\n",
            "21/21 [==============================] - 3s 153ms/step - loss: 0.0315 - val_loss: 0.0370\n",
            "Epoch 13/50\n",
            "21/21 [==============================] - 3s 155ms/step - loss: 0.0297 - val_loss: 0.0388\n",
            "Epoch 14/50\n",
            "21/21 [==============================] - 3s 154ms/step - loss: 0.0277 - val_loss: 0.0170\n",
            "Epoch 15/50\n",
            "21/21 [==============================] - 3s 156ms/step - loss: 0.0289 - val_loss: 0.0236\n",
            "Epoch 16/50\n",
            "21/21 [==============================] - 3s 156ms/step - loss: 0.0268 - val_loss: 0.0366\n",
            "Epoch 17/50\n",
            "21/21 [==============================] - 3s 156ms/step - loss: 0.0282 - val_loss: 0.0170\n",
            "Epoch 18/50\n",
            "21/21 [==============================] - 3s 155ms/step - loss: 0.0263 - val_loss: 0.0160\n",
            "Epoch 19/50\n",
            "21/21 [==============================] - 3s 155ms/step - loss: 0.0268 - val_loss: 0.0314\n",
            "Epoch 20/50\n",
            "21/21 [==============================] - 3s 154ms/step - loss: 0.0250 - val_loss: 0.0290\n",
            "Epoch 21/50\n",
            "21/21 [==============================] - 3s 155ms/step - loss: 0.0270 - val_loss: 0.0146\n",
            "Epoch 22/50\n",
            "21/21 [==============================] - 3s 155ms/step - loss: 0.0251 - val_loss: 0.0185\n",
            "Epoch 23/50\n",
            "21/21 [==============================] - 3s 157ms/step - loss: 0.0250 - val_loss: 0.0149\n",
            "Epoch 24/50\n",
            "21/21 [==============================] - 3s 155ms/step - loss: 0.0234 - val_loss: 0.0397\n",
            "Epoch 25/50\n",
            "21/21 [==============================] - 3s 155ms/step - loss: 0.0246 - val_loss: 0.0135\n",
            "Epoch 26/50\n",
            "21/21 [==============================] - 3s 155ms/step - loss: 0.0240 - val_loss: 0.0142\n",
            "Epoch 27/50\n",
            "21/21 [==============================] - 3s 156ms/step - loss: 0.0228 - val_loss: 0.0257\n",
            "Epoch 28/50\n",
            "21/21 [==============================] - 3s 156ms/step - loss: 0.0221 - val_loss: 0.0263\n",
            "Epoch 29/50\n",
            "21/21 [==============================] - 3s 155ms/step - loss: 0.0221 - val_loss: 0.0194\n",
            "Epoch 30/50\n",
            "21/21 [==============================] - 3s 156ms/step - loss: 0.0217 - val_loss: 0.0300\n",
            "Epoch 31/50\n",
            "21/21 [==============================] - 3s 156ms/step - loss: 0.0226 - val_loss: 0.0151\n",
            "Epoch 32/50\n",
            "21/21 [==============================] - 3s 155ms/step - loss: 0.0211 - val_loss: 0.0269\n",
            "Epoch 33/50\n",
            "21/21 [==============================] - 3s 157ms/step - loss: 0.0214 - val_loss: 0.0112\n",
            "Epoch 34/50\n",
            "21/21 [==============================] - 3s 156ms/step - loss: 0.0198 - val_loss: 0.0249\n",
            "Epoch 35/50\n",
            "21/21 [==============================] - 3s 158ms/step - loss: 0.0211 - val_loss: 0.0158\n",
            "Epoch 36/50\n",
            "21/21 [==============================] - 3s 157ms/step - loss: 0.0206 - val_loss: 0.0133\n",
            "Epoch 37/50\n",
            "21/21 [==============================] - 3s 156ms/step - loss: 0.0191 - val_loss: 0.0301\n",
            "Epoch 38/50\n",
            "21/21 [==============================] - 3s 156ms/step - loss: 0.0209 - val_loss: 0.0134\n",
            "Epoch 39/50\n",
            "21/21 [==============================] - 3s 156ms/step - loss: 0.0200 - val_loss: 0.0116\n",
            "Epoch 40/50\n",
            "21/21 [==============================] - 3s 157ms/step - loss: 0.0183 - val_loss: 0.0297\n",
            "Epoch 41/50\n",
            "21/21 [==============================] - 3s 156ms/step - loss: 0.0194 - val_loss: 0.0117\n",
            "Epoch 42/50\n",
            "21/21 [==============================] - 3s 155ms/step - loss: 0.0187 - val_loss: 0.0105\n",
            "Epoch 43/50\n",
            "21/21 [==============================] - 3s 155ms/step - loss: 0.0188 - val_loss: 0.0101\n",
            "Epoch 44/50\n",
            "21/21 [==============================] - 3s 156ms/step - loss: 0.0191 - val_loss: 0.0103\n",
            "Epoch 45/50\n",
            "21/21 [==============================] - 3s 157ms/step - loss: 0.0174 - val_loss: 0.0133\n",
            "Epoch 46/50\n",
            "21/21 [==============================] - 3s 154ms/step - loss: 0.0196 - val_loss: 0.0102\n",
            "Epoch 47/50\n",
            "21/21 [==============================] - 3s 154ms/step - loss: 0.0184 - val_loss: 0.0132\n",
            "Epoch 48/50\n",
            "21/21 [==============================] - 3s 153ms/step - loss: 0.0187 - val_loss: 0.0101\n",
            "Epoch 49/50\n",
            "21/21 [==============================] - 3s 156ms/step - loss: 0.0172 - val_loss: 0.0146\n",
            "Epoch 50/50\n",
            "21/21 [==============================] - 3s 157ms/step - loss: 0.0183 - val_loss: 0.0102\n"
          ]
        }
      ]
    },
    {
      "cell_type": "code",
      "metadata": {
        "id": "X5ZhUI26M4cZ"
      },
      "source": [
        "train_predict = lstm.predict(x_train)\n",
        "test_predict = lstm.predict(x_test)"
      ],
      "execution_count": 54,
      "outputs": []
    },
    {
      "cell_type": "code",
      "metadata": {
        "id": "3IhDDYr8N7F2"
      },
      "source": [
        "train_predict = scaler.inverse_transform(train_predict)\n",
        "test_predict = scaler.inverse_transform(test_predict)"
      ],
      "execution_count": 55,
      "outputs": []
    },
    {
      "cell_type": "code",
      "metadata": {
        "colab": {
          "base_uri": "https://localhost:8080/"
        },
        "id": "49ubT8lnOCeK",
        "outputId": "8e9f396c-7902-4240-de9d-7f5686ebb24c"
      },
      "source": [
        "print('Loss On Train Data:',math.sqrt(mean_absolute_error(y_train,train_predict)))\n",
        "print('Loss On Test Data:',math.sqrt(mean_absolute_error(y_test,test_predict)))"
      ],
      "execution_count": 56,
      "outputs": [
        {
          "output_type": "stream",
          "name": "stdout",
          "text": [
            "Loss On Train Data: 12.365371821569228\n",
            "Loss On Test Data: 10.206718004605682\n"
          ]
        }
      ]
    },
    {
      "cell_type": "code",
      "metadata": {
        "colab": {
          "base_uri": "https://localhost:8080/",
          "height": 295
        },
        "id": "A4G28-lgO-bt",
        "outputId": "acb08140-4372-469e-a618-950013364364"
      },
      "source": [
        "history_dict = history.history\n",
        "loss_values = history_dict['loss']\n",
        "val_loss_values = history_dict['val_loss']\n",
        "epochs = range(1, len(loss_values) + 1)\n",
        "plt.plot(epochs, loss_values, 'bo', label='Training loss')\n",
        "plt.plot(epochs, val_loss_values, 'b', label='Validation loss')\n",
        "plt.title('Training and validation loss')\n",
        "plt.xlabel('Epochs')\n",
        "plt.ylabel('Loss')\n",
        "plt.legend()\n",
        "plt.show()"
      ],
      "execution_count": 57,
      "outputs": [
        {
          "output_type": "display_data",
          "data": {
            "image/png": "[encoded data removed]",
            "text/plain": [
              "<Figure size 432x288 with 1 Axes>"
            ]
          },
          "metadata": {
            "needs_background": "light"
          }
        }
      ]
    }
  ]
}